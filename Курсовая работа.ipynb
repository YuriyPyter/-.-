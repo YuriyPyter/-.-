{
 "cells": [
  {
   "cell_type": "markdown",
   "metadata": {
    "_cell_guid": "b1076dfc-b9ad-4769-8c92-a6c4dae69d19",
    "_uuid": "8f2839f25d086af736a60e9eeb907d3b93b6e0e5",
    "execution": {
     "iopub.execute_input": "2021-03-13T13:57:15.797618Z",
     "iopub.status.busy": "2021-03-13T13:57:15.796628Z",
     "iopub.status.idle": "2021-03-13T13:57:15.802230Z",
     "shell.execute_reply": "2021-03-13T13:57:15.801519Z"
    },
    "papermill": {
     "duration": 0.028422,
     "end_time": "2021-03-13T13:57:15.802459",
     "exception": false,
     "start_time": "2021-03-13T13:57:15.774037",
     "status": "completed"
    },
    "tags": []
   },
   "source": [
    "# Курсовая работа. Прогноз цен на недвижимость.\n",
    "\n",
    "### Задание для курсового проекта\n",
    "\n",
    "Метрика:\n",
    "R2 - коэффициент детерминации (sklearn.metrics.r2_score)\n",
    "\n",
    "Сдача проекта:\n",
    "1. Прислать в раздел Задания Урока 10 (\"Вебинар. Консультация по итоговому проекту\")\n",
    "ссылку на программу в github (программа должна содержаться в файле Jupyter Notebook \n",
    "с расширением ipynb). (Pull request не нужен, только ссылка ведущая на сам скрипт).\n",
    "2. Приложить файл с названием по образцу SShirkin_predictions.csv\n",
    "с предсказанными ценами для квартир из test.csv (файл должен содержать два поля: Id, Price).\n",
    "В файле с предсказаниями должна быть 5001 строка (шапка + 5000 предсказаний).\n",
    "\n",
    "Сроки и условия сдачи:\n",
    "Дедлайн: сдать проект нужно в течение 72 часов после начала Урока 10 (\"Вебинар. Консультация по итоговому проекту\").\n",
    "Для успешной сдачи должны быть все предсказания (для 5000 квартир) и R2 должен быть больше 0.6.\n",
    "При сдаче до дедлайна результат проекта может попасть в топ лучших результатов.\n",
    "Повторная сдача и проверка результатов возможны только при условии предыдущей неуспешной сдачи.\n",
    "Успешный проект нельзя пересдать в целях повышения результата.\n",
    "Проекты, сданные после дедлайна или сданные повторно, не попадают в топ лучших результатов, но можно узнать результат.\n",
    "В качестве итогового результата берется первый успешный результат, последующие успешные результаты не учитываются.\n",
    "\n",
    "Примечание:\n",
    "Все файлы csv должны содержать названия полей (header - то есть \"шапку\"),\n",
    "разделитель - запятая. В файлах не должны содержаться индексы из датафрейма.\n",
    "\n",
    "Рекомендации для файла с кодом (ipynb):\n",
    "1. Файл должен содержать заголовки и комментарии\n",
    "2. Повторяющиеся операции лучше оформлять в виде функций\n",
    "3. Не делать вывод большого количества строк таблиц (5-10 достаточно)\n",
    "4. По возможности добавлять графики, описывающие данные (около 3-5)\n",
    "5. Добавлять только лучшую модель, то есть не включать в код все варианты решения проекта\n",
    "6. Скрипт проекта должен отрабатывать от начала и до конца (от загрузки данных до выгрузки предсказаний)\n",
    "7. Весь проект должен быть в одном скрипте (файл ipynb).\n",
    "8. При использовании статистик (среднее, медиана и т.д.) в качестве признаков,\n",
    "лучше считать их на трейне, и потом на валидационных и тестовых данных не считать \n",
    "статистики заново, а брать их с трейна. Если хватает знаний, можно использовать кросс-валидацию,\n",
    "но для сдачи этого проекта достаточно разбить данные из train.csv на train и valid.\n",
    "9. Проект должен полностью отрабатывать за разумное время (не больше 10 минут),\n",
    "поэтому в финальный вариант лучше не включать GridSearch с перебором \n",
    "большого количества сочетаний параметров.\n",
    "10. Допускается применение моделей машинного обучения из библиотеки sklearn."
   ]
  },
  {
   "cell_type": "markdown",
   "metadata": {},
   "source": [
    "__Подключение бибилиотек__"
   ]
  },
  {
   "cell_type": "code",
   "execution_count": 1,
   "metadata": {
    "execution": {
     "iopub.execute_input": "2021-03-13T13:57:15.838168Z",
     "iopub.status.busy": "2021-03-13T13:57:15.837271Z",
     "iopub.status.idle": "2021-03-13T13:57:17.459571Z",
     "shell.execute_reply": "2021-03-13T13:57:17.460476Z"
    },
    "papermill": {
     "duration": 1.643111,
     "end_time": "2021-03-13T13:57:17.460696",
     "exception": false,
     "start_time": "2021-03-13T13:57:15.817585",
     "status": "completed"
    },
    "tags": []
   },
   "outputs": [],
   "source": [
    "import pandas as pd\n",
    "import numpy as np\n",
    "import sklearn as skl\n",
    "import matplotlib\n",
    "import matplotlib.pyplot as plt\n",
    "\n",
    "from sklearn.model_selection import train_test_split, KFold, GridSearchCV, RepeatedKFold\n",
    "from sklearn.preprocessing import StandardScaler, MinMaxScaler, RobustScaler\n",
    "from sklearn.manifold import TSNE\n",
    "from sklearn.ensemble import RandomForestRegressor, GradientBoostingRegressor\n",
    "from sklearn.metrics import mean_squared_error as mse, r2_score as r2\n",
    "from sklearn.decomposition import PCA\n",
    "from sklearn.svm import SVR\n",
    "from datetime import datetime"
   ]
  },
  {
   "cell_type": "code",
   "execution_count": 2,
   "metadata": {
    "execution": {
     "iopub.execute_input": "2021-03-13T13:57:17.497043Z",
     "iopub.status.busy": "2021-03-13T13:57:17.496413Z",
     "iopub.status.idle": "2021-03-13T13:57:17.499136Z",
     "shell.execute_reply": "2021-03-13T13:57:17.498550Z"
    },
    "papermill": {
     "duration": 0.022104,
     "end_time": "2021-03-13T13:57:17.499272",
     "exception": false,
     "start_time": "2021-03-13T13:57:17.477168",
     "status": "completed"
    },
    "tags": []
   },
   "outputs": [],
   "source": [
    "import warnings\n",
    "warnings.filterwarnings('ignore')"
   ]
  },
  {
   "cell_type": "code",
   "execution_count": 3,
   "metadata": {},
   "outputs": [],
   "source": [
    "matplotlib.rcParams.update({'font.size': 14})"
   ]
  },
  {
   "cell_type": "markdown",
   "metadata": {
    "papermill": {
     "duration": 0.014344,
     "end_time": "2021-03-13T13:57:17.528347",
     "exception": false,
     "start_time": "2021-03-13T13:57:17.514003",
     "status": "completed"
    },
    "tags": []
   },
   "source": [
    "# Загрузка данных"
   ]
  },
  {
   "cell_type": "code",
   "execution_count": 4,
   "metadata": {
    "execution": {
     "iopub.execute_input": "2021-03-13T13:57:17.561169Z",
     "iopub.status.busy": "2021-03-13T13:57:17.560567Z",
     "iopub.status.idle": "2021-03-13T13:57:17.565137Z",
     "shell.execute_reply": "2021-03-13T13:57:17.564577Z"
    },
    "papermill": {
     "duration": 0.022415,
     "end_time": "2021-03-13T13:57:17.565281",
     "exception": false,
     "start_time": "2021-03-13T13:57:17.542866",
     "status": "completed"
    },
    "tags": []
   },
   "outputs": [],
   "source": [
    "TRAIN_DATASET_PATH = 'train.csv'\n",
    "TEST_DATASET_PATH = 'test.csv'"
   ]
  },
  {
   "cell_type": "code",
   "execution_count": 5,
   "metadata": {
    "execution": {
     "iopub.execute_input": "2021-03-13T13:57:17.599008Z",
     "iopub.status.busy": "2021-03-13T13:57:17.598388Z",
     "iopub.status.idle": "2021-03-13T13:57:17.676835Z",
     "shell.execute_reply": "2021-03-13T13:57:17.675294Z"
    },
    "papermill": {
     "duration": 0.096962,
     "end_time": "2021-03-13T13:57:17.676992",
     "exception": false,
     "start_time": "2021-03-13T13:57:17.580030",
     "status": "completed"
    },
    "tags": []
   },
   "outputs": [],
   "source": [
    "train_df = pd.read_csv(TRAIN_DATASET_PATH)\n",
    "test_df = pd.read_csv(TEST_DATASET_PATH)"
   ]
  },
  {
   "cell_type": "markdown",
   "metadata": {},
   "source": [
    "**Описание датасета**\n",
    "\n",
    "* **Id** - идентификационный номер квартиры\n",
    "* **DistrictId** - идентификационный номер района\n",
    "* **Rooms** - количество комнат\n",
    "* **Square** - площадь\n",
    "* **LifeSquare** - жилая площадь\n",
    "* **KitchenSquare** - площадь кухни\n",
    "* **Floor** - этаж\n",
    "* **HouseFloor** - количество этажей в доме\n",
    "* **HouseYear** - год постройки дома\n",
    "* **Ecology_1, Ecology_2, Ecology_3** - экологические показатели местности\n",
    "* **Social_1, Social_2, Social_3** - социальные показатели местности\n",
    "* **Healthcare_1, Helthcare_2** - показатели местности, связанные с охраной здоровья\n",
    "* **Shops_1, Shops_2** - показатели, связанные с наличием магазинов, торговых центров\n",
    "* **Price** - цена квартиры"
   ]
  },
  {
   "cell_type": "code",
   "execution_count": 6,
   "metadata": {},
   "outputs": [
    {
     "data": {
      "text/html": [
       "<div>\n",
       "<style scoped>\n",
       "    .dataframe tbody tr th:only-of-type {\n",
       "        vertical-align: middle;\n",
       "    }\n",
       "\n",
       "    .dataframe tbody tr th {\n",
       "        vertical-align: top;\n",
       "    }\n",
       "\n",
       "    .dataframe thead th {\n",
       "        text-align: right;\n",
       "    }\n",
       "</style>\n",
       "<table border=\"1\" class=\"dataframe\">\n",
       "  <thead>\n",
       "    <tr style=\"text-align: right;\">\n",
       "      <th></th>\n",
       "      <th>Id</th>\n",
       "      <th>DistrictId</th>\n",
       "      <th>Rooms</th>\n",
       "      <th>Square</th>\n",
       "      <th>LifeSquare</th>\n",
       "      <th>KitchenSquare</th>\n",
       "      <th>Floor</th>\n",
       "      <th>HouseFloor</th>\n",
       "      <th>HouseYear</th>\n",
       "      <th>Ecology_1</th>\n",
       "      <th>Ecology_2</th>\n",
       "      <th>Ecology_3</th>\n",
       "      <th>Social_1</th>\n",
       "      <th>Social_2</th>\n",
       "      <th>Social_3</th>\n",
       "      <th>Healthcare_1</th>\n",
       "      <th>Helthcare_2</th>\n",
       "      <th>Shops_1</th>\n",
       "      <th>Shops_2</th>\n",
       "      <th>Price</th>\n",
       "    </tr>\n",
       "  </thead>\n",
       "  <tbody>\n",
       "    <tr>\n",
       "      <th>0</th>\n",
       "      <td>11809</td>\n",
       "      <td>27</td>\n",
       "      <td>3.0</td>\n",
       "      <td>115.027311</td>\n",
       "      <td>NaN</td>\n",
       "      <td>10.0</td>\n",
       "      <td>4</td>\n",
       "      <td>10.0</td>\n",
       "      <td>2014</td>\n",
       "      <td>0.075424</td>\n",
       "      <td>B</td>\n",
       "      <td>B</td>\n",
       "      <td>11</td>\n",
       "      <td>3097</td>\n",
       "      <td>0</td>\n",
       "      <td>NaN</td>\n",
       "      <td>0</td>\n",
       "      <td>0</td>\n",
       "      <td>B</td>\n",
       "      <td>305018.871089</td>\n",
       "    </tr>\n",
       "    <tr>\n",
       "      <th>1</th>\n",
       "      <td>3013</td>\n",
       "      <td>22</td>\n",
       "      <td>1.0</td>\n",
       "      <td>39.832524</td>\n",
       "      <td>23.169223</td>\n",
       "      <td>8.0</td>\n",
       "      <td>7</td>\n",
       "      <td>8.0</td>\n",
       "      <td>1966</td>\n",
       "      <td>0.118537</td>\n",
       "      <td>B</td>\n",
       "      <td>B</td>\n",
       "      <td>30</td>\n",
       "      <td>6207</td>\n",
       "      <td>1</td>\n",
       "      <td>1183.0</td>\n",
       "      <td>1</td>\n",
       "      <td>0</td>\n",
       "      <td>B</td>\n",
       "      <td>177734.553407</td>\n",
       "    </tr>\n",
       "    <tr>\n",
       "      <th>2</th>\n",
       "      <td>8215</td>\n",
       "      <td>1</td>\n",
       "      <td>3.0</td>\n",
       "      <td>78.342215</td>\n",
       "      <td>47.671972</td>\n",
       "      <td>10.0</td>\n",
       "      <td>2</td>\n",
       "      <td>17.0</td>\n",
       "      <td>1988</td>\n",
       "      <td>0.025609</td>\n",
       "      <td>B</td>\n",
       "      <td>B</td>\n",
       "      <td>33</td>\n",
       "      <td>5261</td>\n",
       "      <td>0</td>\n",
       "      <td>240.0</td>\n",
       "      <td>3</td>\n",
       "      <td>1</td>\n",
       "      <td>B</td>\n",
       "      <td>282078.720850</td>\n",
       "    </tr>\n",
       "    <tr>\n",
       "      <th>3</th>\n",
       "      <td>2352</td>\n",
       "      <td>1</td>\n",
       "      <td>1.0</td>\n",
       "      <td>40.409907</td>\n",
       "      <td>NaN</td>\n",
       "      <td>1.0</td>\n",
       "      <td>10</td>\n",
       "      <td>22.0</td>\n",
       "      <td>1977</td>\n",
       "      <td>0.007122</td>\n",
       "      <td>B</td>\n",
       "      <td>B</td>\n",
       "      <td>1</td>\n",
       "      <td>264</td>\n",
       "      <td>0</td>\n",
       "      <td>NaN</td>\n",
       "      <td>0</td>\n",
       "      <td>1</td>\n",
       "      <td>B</td>\n",
       "      <td>168106.007630</td>\n",
       "    </tr>\n",
       "    <tr>\n",
       "      <th>4</th>\n",
       "      <td>13866</td>\n",
       "      <td>94</td>\n",
       "      <td>2.0</td>\n",
       "      <td>64.285067</td>\n",
       "      <td>38.562517</td>\n",
       "      <td>9.0</td>\n",
       "      <td>16</td>\n",
       "      <td>16.0</td>\n",
       "      <td>1972</td>\n",
       "      <td>0.282798</td>\n",
       "      <td>B</td>\n",
       "      <td>B</td>\n",
       "      <td>33</td>\n",
       "      <td>8667</td>\n",
       "      <td>2</td>\n",
       "      <td>NaN</td>\n",
       "      <td>0</td>\n",
       "      <td>6</td>\n",
       "      <td>B</td>\n",
       "      <td>343995.102962</td>\n",
       "    </tr>\n",
       "  </tbody>\n",
       "</table>\n",
       "</div>"
      ],
      "text/plain": [
       "      Id  DistrictId  Rooms      Square  LifeSquare  KitchenSquare  Floor  \\\n",
       "0  11809          27    3.0  115.027311         NaN           10.0      4   \n",
       "1   3013          22    1.0   39.832524   23.169223            8.0      7   \n",
       "2   8215           1    3.0   78.342215   47.671972           10.0      2   \n",
       "3   2352           1    1.0   40.409907         NaN            1.0     10   \n",
       "4  13866          94    2.0   64.285067   38.562517            9.0     16   \n",
       "\n",
       "   HouseFloor  HouseYear  Ecology_1 Ecology_2 Ecology_3  Social_1  Social_2  \\\n",
       "0        10.0       2014   0.075424         B         B        11      3097   \n",
       "1         8.0       1966   0.118537         B         B        30      6207   \n",
       "2        17.0       1988   0.025609         B         B        33      5261   \n",
       "3        22.0       1977   0.007122         B         B         1       264   \n",
       "4        16.0       1972   0.282798         B         B        33      8667   \n",
       "\n",
       "   Social_3  Healthcare_1  Helthcare_2  Shops_1 Shops_2          Price  \n",
       "0         0           NaN            0        0       B  305018.871089  \n",
       "1         1        1183.0            1        0       B  177734.553407  \n",
       "2         0         240.0            3        1       B  282078.720850  \n",
       "3         0           NaN            0        1       B  168106.007630  \n",
       "4         2           NaN            0        6       B  343995.102962  "
      ]
     },
     "execution_count": 6,
     "metadata": {},
     "output_type": "execute_result"
    }
   ],
   "source": [
    "train_df = pd.read_csv(TRAIN_DATASET_PATH)\n",
    "train_df.head()"
   ]
  },
  {
   "cell_type": "code",
   "execution_count": 7,
   "metadata": {},
   "outputs": [
    {
     "data": {
      "text/html": [
       "<div>\n",
       "<style scoped>\n",
       "    .dataframe tbody tr th:only-of-type {\n",
       "        vertical-align: middle;\n",
       "    }\n",
       "\n",
       "    .dataframe tbody tr th {\n",
       "        vertical-align: top;\n",
       "    }\n",
       "\n",
       "    .dataframe thead th {\n",
       "        text-align: right;\n",
       "    }\n",
       "</style>\n",
       "<table border=\"1\" class=\"dataframe\">\n",
       "  <thead>\n",
       "    <tr style=\"text-align: right;\">\n",
       "      <th></th>\n",
       "      <th>Id</th>\n",
       "      <th>DistrictId</th>\n",
       "      <th>Rooms</th>\n",
       "      <th>Square</th>\n",
       "      <th>LifeSquare</th>\n",
       "      <th>KitchenSquare</th>\n",
       "      <th>Floor</th>\n",
       "      <th>HouseFloor</th>\n",
       "      <th>HouseYear</th>\n",
       "      <th>Ecology_1</th>\n",
       "      <th>Ecology_2</th>\n",
       "      <th>Ecology_3</th>\n",
       "      <th>Social_1</th>\n",
       "      <th>Social_2</th>\n",
       "      <th>Social_3</th>\n",
       "      <th>Healthcare_1</th>\n",
       "      <th>Helthcare_2</th>\n",
       "      <th>Shops_1</th>\n",
       "      <th>Shops_2</th>\n",
       "    </tr>\n",
       "  </thead>\n",
       "  <tbody>\n",
       "    <tr>\n",
       "      <th>0</th>\n",
       "      <td>4567</td>\n",
       "      <td>44</td>\n",
       "      <td>1.0</td>\n",
       "      <td>36.847630</td>\n",
       "      <td>19.094182</td>\n",
       "      <td>5.0</td>\n",
       "      <td>5</td>\n",
       "      <td>9.0</td>\n",
       "      <td>1970</td>\n",
       "      <td>0.036122</td>\n",
       "      <td>B</td>\n",
       "      <td>B</td>\n",
       "      <td>24</td>\n",
       "      <td>4378</td>\n",
       "      <td>0</td>\n",
       "      <td>1036.0</td>\n",
       "      <td>1</td>\n",
       "      <td>1</td>\n",
       "      <td>B</td>\n",
       "    </tr>\n",
       "    <tr>\n",
       "      <th>1</th>\n",
       "      <td>5925</td>\n",
       "      <td>62</td>\n",
       "      <td>1.0</td>\n",
       "      <td>42.493907</td>\n",
       "      <td>42.568133</td>\n",
       "      <td>10.0</td>\n",
       "      <td>7</td>\n",
       "      <td>17.0</td>\n",
       "      <td>2017</td>\n",
       "      <td>0.072158</td>\n",
       "      <td>B</td>\n",
       "      <td>B</td>\n",
       "      <td>2</td>\n",
       "      <td>629</td>\n",
       "      <td>1</td>\n",
       "      <td>NaN</td>\n",
       "      <td>0</td>\n",
       "      <td>0</td>\n",
       "      <td>A</td>\n",
       "    </tr>\n",
       "    <tr>\n",
       "      <th>2</th>\n",
       "      <td>960</td>\n",
       "      <td>27</td>\n",
       "      <td>2.0</td>\n",
       "      <td>59.463678</td>\n",
       "      <td>NaN</td>\n",
       "      <td>9.0</td>\n",
       "      <td>19</td>\n",
       "      <td>19.0</td>\n",
       "      <td>1977</td>\n",
       "      <td>0.211401</td>\n",
       "      <td>B</td>\n",
       "      <td>B</td>\n",
       "      <td>9</td>\n",
       "      <td>1892</td>\n",
       "      <td>0</td>\n",
       "      <td>NaN</td>\n",
       "      <td>0</td>\n",
       "      <td>1</td>\n",
       "      <td>B</td>\n",
       "    </tr>\n",
       "    <tr>\n",
       "      <th>3</th>\n",
       "      <td>3848</td>\n",
       "      <td>23</td>\n",
       "      <td>3.0</td>\n",
       "      <td>49.646030</td>\n",
       "      <td>33.893825</td>\n",
       "      <td>6.0</td>\n",
       "      <td>2</td>\n",
       "      <td>2.0</td>\n",
       "      <td>1965</td>\n",
       "      <td>0.014073</td>\n",
       "      <td>B</td>\n",
       "      <td>B</td>\n",
       "      <td>2</td>\n",
       "      <td>475</td>\n",
       "      <td>0</td>\n",
       "      <td>NaN</td>\n",
       "      <td>0</td>\n",
       "      <td>0</td>\n",
       "      <td>B</td>\n",
       "    </tr>\n",
       "    <tr>\n",
       "      <th>4</th>\n",
       "      <td>746</td>\n",
       "      <td>74</td>\n",
       "      <td>1.0</td>\n",
       "      <td>53.837056</td>\n",
       "      <td>NaN</td>\n",
       "      <td>1.0</td>\n",
       "      <td>8</td>\n",
       "      <td>17.0</td>\n",
       "      <td>1977</td>\n",
       "      <td>0.309479</td>\n",
       "      <td>B</td>\n",
       "      <td>B</td>\n",
       "      <td>35</td>\n",
       "      <td>7715</td>\n",
       "      <td>4</td>\n",
       "      <td>990.0</td>\n",
       "      <td>0</td>\n",
       "      <td>6</td>\n",
       "      <td>B</td>\n",
       "    </tr>\n",
       "  </tbody>\n",
       "</table>\n",
       "</div>"
      ],
      "text/plain": [
       "     Id  DistrictId  Rooms     Square  LifeSquare  KitchenSquare  Floor  \\\n",
       "0  4567          44    1.0  36.847630   19.094182            5.0      5   \n",
       "1  5925          62    1.0  42.493907   42.568133           10.0      7   \n",
       "2   960          27    2.0  59.463678         NaN            9.0     19   \n",
       "3  3848          23    3.0  49.646030   33.893825            6.0      2   \n",
       "4   746          74    1.0  53.837056         NaN            1.0      8   \n",
       "\n",
       "   HouseFloor  HouseYear  Ecology_1 Ecology_2 Ecology_3  Social_1  Social_2  \\\n",
       "0         9.0       1970   0.036122         B         B        24      4378   \n",
       "1        17.0       2017   0.072158         B         B         2       629   \n",
       "2        19.0       1977   0.211401         B         B         9      1892   \n",
       "3         2.0       1965   0.014073         B         B         2       475   \n",
       "4        17.0       1977   0.309479         B         B        35      7715   \n",
       "\n",
       "   Social_3  Healthcare_1  Helthcare_2  Shops_1 Shops_2  \n",
       "0         0        1036.0            1        1       B  \n",
       "1         1           NaN            0        0       A  \n",
       "2         0           NaN            0        1       B  \n",
       "3         0           NaN            0        0       B  \n",
       "4         4         990.0            0        6       B  "
      ]
     },
     "execution_count": 7,
     "metadata": {},
     "output_type": "execute_result"
    }
   ],
   "source": [
    "test_df = pd.read_csv(TEST_DATASET_PATH)\n",
    "test_df.head()"
   ]
  },
  {
   "cell_type": "code",
   "execution_count": 8,
   "metadata": {
    "execution": {
     "iopub.execute_input": "2021-03-13T13:57:17.714808Z",
     "iopub.status.busy": "2021-03-13T13:57:17.714205Z",
     "iopub.status.idle": "2021-03-13T13:57:17.717126Z",
     "shell.execute_reply": "2021-03-13T13:57:17.717559Z"
    },
    "papermill": {
     "duration": 0.0253,
     "end_time": "2021-03-13T13:57:17.717736",
     "exception": false,
     "start_time": "2021-03-13T13:57:17.692436",
     "status": "completed"
    },
    "tags": []
   },
   "outputs": [
    {
     "data": {
      "text/plain": [
       "True"
      ]
     },
     "execution_count": 8,
     "metadata": {},
     "output_type": "execute_result"
    }
   ],
   "source": [
    "# в train на 1 столбец меньше, чем в test\n",
    "train_df.shape[1] - 1 == test_df.shape[1]"
   ]
  },
  {
   "cell_type": "markdown",
   "metadata": {
    "papermill": {
     "duration": 0.014623,
     "end_time": "2021-03-13T13:57:17.747342",
     "exception": false,
     "start_time": "2021-03-13T13:57:17.732719",
     "status": "completed"
    },
    "tags": []
   },
   "source": [
    "# Целевое распределение признаков и корреляции"
   ]
  },
  {
   "cell_type": "code",
   "execution_count": 9,
   "metadata": {
    "execution": {
     "iopub.execute_input": "2021-03-13T13:57:17.780679Z",
     "iopub.status.busy": "2021-03-13T13:57:17.779925Z",
     "iopub.status.idle": "2021-03-13T13:57:18.033559Z",
     "shell.execute_reply": "2021-03-13T13:57:18.034119Z"
    },
    "papermill": {
     "duration": 0.272071,
     "end_time": "2021-03-13T13:57:18.034284",
     "exception": false,
     "start_time": "2021-03-13T13:57:17.762213",
     "status": "completed"
    },
    "tags": []
   },
   "outputs": [
    {
     "data": {
      "image/png": "[encoded data removed]",
      "text/plain": [
       "<Figure size 1152x576 with 1 Axes>"
      ]
     },
     "metadata": {
      "needs_background": "light"
     },
     "output_type": "display_data"
    }
   ],
   "source": [
    "plt.figure(figsize = (16, 8))\n",
    "\n",
    "train_df['Price'].hist(bins=50, color='purple')\n",
    "plt.ylabel('Количество наблюдений')\n",
    "plt.xlabel('Цена')\n",
    "\n",
    "plt.title('Target distribution')\n",
    "plt.show()"
   ]
  },
  {
   "cell_type": "code",
   "execution_count": 10,
   "metadata": {
    "execution": {
     "iopub.execute_input": "2021-03-13T13:57:18.071208Z",
     "iopub.status.busy": "2021-03-13T13:57:18.070567Z",
     "iopub.status.idle": "2021-03-13T13:57:18.305414Z",
     "shell.execute_reply": "2021-03-13T13:57:18.305906Z"
    },
    "papermill": {
     "duration": 0.255356,
     "end_time": "2021-03-13T13:57:18.306098",
     "exception": false,
     "start_time": "2021-03-13T13:57:18.050742",
     "status": "completed"
    },
    "tags": []
   },
   "outputs": [
    {
     "data": {
      "image/png": "[encoded data removed]",
      "text/plain": [
       "<Figure size 1152x576 with 1 Axes>"
      ]
     },
     "metadata": {
      "needs_background": "light"
     },
     "output_type": "display_data"
    }
   ],
   "source": [
    "correlation = train_df.corrwith(train_df['Price']).sort_values(ascending=False)\n",
    "correlation.drop('Price', inplace=True)\n",
    "\n",
    "plt.figure(figsize = (16, 8))\n",
    "plt.bar(correlation.index, correlation, color = 'purple')\n",
    "plt.xticks(rotation='45')\n",
    "plt.xlabel('Признаки', fontsize=15)\n",
    "plt.ylabel('Корреляция', fontsize=15)\n",
    "plt.title('Распределение признаков и корреляции', fontsize=15)\n",
    "plt.show()"
   ]
  },
  {
   "cell_type": "markdown",
   "metadata": {
    "papermill": {
     "duration": 0.016944,
     "end_time": "2021-03-13T13:57:18.340316",
     "exception": false,
     "start_time": "2021-03-13T13:57:18.323372",
     "status": "completed"
    },
    "tags": []
   },
   "source": [
    "# Обработка данных и генерация признаков"
   ]
  },
  {
   "cell_type": "code",
   "execution_count": 11,
   "metadata": {
    "execution": {
     "iopub.execute_input": "2021-03-13T13:57:18.378309Z",
     "iopub.status.busy": "2021-03-13T13:57:18.377581Z",
     "iopub.status.idle": "2021-03-13T13:57:18.392817Z",
     "shell.execute_reply": "2021-03-13T13:57:18.393324Z"
    },
    "papermill": {
     "duration": 0.035631,
     "end_time": "2021-03-13T13:57:18.393492",
     "exception": false,
     "start_time": "2021-03-13T13:57:18.357861",
     "status": "completed"
    },
    "tags": []
   },
   "outputs": [],
   "source": [
    "class DataPreprocessor:\n",
    "    def __init__(self):\n",
    "        self.medians = None\n",
    "        self.kitchen_square_max_value = None\n",
    "        self.kitchen_square_min_value = None\n",
    "        self.life_square_min_value = None\n",
    "        self.max_floor = None\n",
    "        self.districts_healthcare = None\n",
    "\n",
    "\n",
    "        \n",
    "    def fit(self, df):\n",
    "        # Медианы и квантили\n",
    "        self.medians = df.median() # медианы\n",
    "        self.kitchen_square_max_value = np.quantile(df['KitchenSquare'], q=0.999) \n",
    "        self.kitchen_square_min_value = np.quantile(df['KitchenSquare'], q=0.001) \n",
    "        self.life_square_min_value = np.quantile(df['LifeSquare'], q=0.03) \n",
    "        self.max_floor = df['Floor'].max()\n",
    "        \n",
    "        \n",
    "        # Вычисляем среднее значение Helthcare_1 в каждом районе\n",
    "        self.districts_healthcare = df.groupby(['DistrictId'])['Healthcare_1'].agg('mean').to_dict()\n",
    "\n",
    "\n",
    "    def transform(self, df):\n",
    "        # заменяем на полную жилую площадь\n",
    "        df['LifeSquare'].fillna(((df['Square'] - df['KitchenSquare']) - df['Square']*0.2), inplace=True)\n",
    "\n",
    "\n",
    "        # Rooms\n",
    "        # Добавляем медианы         \n",
    "        df['Rooms'].fillna(self.medians.Rooms, inplace=True) \n",
    "        \n",
    "        # Вычисляем медианную площадь комнаты и заполняем выбросы с помощью LifeSquare/Room_square \n",
    "        condition_rooms = (df['Rooms'] > 6) | (df['Rooms'] == 0)   \n",
    "        room_sq = np.round((self.medians.LifeSquare / self.medians.Rooms, 1))[0]\n",
    "        df.loc[condition_rooms , 'Rooms'] = df.loc[condition_rooms, 'LifeSquare'] / room_sq\n",
    "\n",
    "        # Square\n",
    "        # Если LifeSquare > Square: изменяем значения\n",
    "        df['Square'], df['LifeSquare'] = np.where(df['Square'] < df['LifeSquare'],(df['LifeSquare'],df['Square']), (df['Square'],df['LifeSquare']))\n",
    "\n",
    "\n",
    "        # LifeSquare\n",
    "        # Заполяняем выбросы с помощью (Square - KithcenSquare)\n",
    "        ls_condition = (df['LifeSquare'] < self.life_square_min_value)\n",
    "        df.loc[ls_condition, 'LifeSquare'] = df.loc[ls_condition, ['Square']] - df.loc[ls_condition, ['KitchenSquare']]\n",
    "  \n",
    "        \n",
    "        # KitchenSquare\n",
    "        # Заполняем выбросы с помощью (Square - LifeSquare - 10% of Square)\n",
    "        condition_kitchen_square = (df['KitchenSquare'] > self.kitchen_square_max_value) | (df['KitchenSquare'] < self.kitchen_square_min_value)\n",
    "        df.loc[condition_kitchen_square, 'KitchenSquare'] = df.loc[condition_kitchen_square, 'Square'] - df.loc[condition_kitchen_square, 'LifeSquare'] \\\n",
    "        - (df.loc[condition_kitchen_square, 'Square'] * 0.1)\n",
    "\n",
    "\n",
    "        # Ecology and Shops\n",
    "        # Заменяем буквы на цифры\n",
    "        df.replace({'Ecology_2': {'A': 0, 'B': 1}}, inplace=True)\n",
    "        df.replace({'Ecology_3': {'A': 0, 'B': 1}}, inplace=True)\n",
    "        df.replace({'Shops_2': {'A': 0, 'B': 1}}, inplace=True)\n",
    "        \n",
    "        \n",
    "        # HouseFloor\n",
    "        # Если HouseFloor < Floor: изменяем значения\n",
    "        house_floor_condition = df['HouseFloor'] < df['Floor']\n",
    "        df.loc[house_floor_condition, 'HouseFloor'] = df.loc[house_floor_condition, 'Floor']\n",
    "\n",
    "        \n",
    "        # HouseYear\n",
    "        # Если HouseYear > current year устанавливаем медианное значение\n",
    "        current_year = datetime.now().year\n",
    "        condition_year = (df['HouseYear'] > current_year)\n",
    "        df.loc[condition_year, 'HouseYear'] = self.medians.HouseYear\n",
    "        \n",
    "        \n",
    "        # Healthcare\n",
    "        # Добавляем районные значения для здравоохранения. (Если район не имеет значения для здравоохранения, добавляем медианы)      \n",
    "        df.loc[df['Healthcare_1'].isna(), 'Healthcare_1'] = df['DistrictId'].map(self.districts_healthcare)\n",
    "        df['Healthcare_1'].fillna(self.medians.Healthcare_1, inplace=True)       \n",
    "        # Clip on upper quantille\n",
    "        q_max = np.quantile(df['Healthcare_1'], q=0.9)\n",
    "        df['Healthcare_1'].clip(upper=q_max, axis=0, inplace=True)\n",
    "        \n",
    "        \n",
    "        # Удаляем Id\n",
    "        df.drop(['Id'], axis=1, inplace=True)\n",
    "\n",
    "        \n",
    "        # Добавляем на всякий случай\n",
    "        df.fillna(self.medians, inplace=True)\n",
    "        return df\n",
    "\n",
    "\n"
   ]
  },
  {
   "cell_type": "code",
   "execution_count": 12,
   "metadata": {
    "execution": {
     "iopub.execute_input": "2021-03-13T13:57:18.431597Z",
     "iopub.status.busy": "2021-03-13T13:57:18.430836Z",
     "iopub.status.idle": "2021-03-13T13:57:18.442529Z",
     "shell.execute_reply": "2021-03-13T13:57:18.443134Z"
    },
    "papermill": {
     "duration": 0.032258,
     "end_time": "2021-03-13T13:57:18.443332",
     "exception": false,
     "start_time": "2021-03-13T13:57:18.411074",
     "status": "completed"
    },
    "tags": []
   },
   "outputs": [],
   "source": [
    "class FeatureGenerator:\n",
    "    def __init__(self):\n",
    "        self.districts_median_year = None\n",
    "        self.districts_density = None\n",
    "        self.district_price_per_square = None\n",
    "        self.min_sq = None\n",
    "        self.max_sq = None\n",
    "\n",
    "        \n",
    "    def fit(self, df):   \n",
    "        self.min_sq = np.quantile(df['Square'], q=0.005)\n",
    "        self.max_sq = np.quantile(df['Square'], q=0.995)\n",
    "        \n",
    "        self.districts_median_year = df.groupby(['DistrictId'])['HouseYear'].agg('median').to_dict()  # median house year in each district\n",
    "        self.districts_density = df.groupby(['DistrictId'])['Square'].agg('median').to_dict()  # median square in each district\n",
    "        self.district_price_per_square = df.groupby(['DistrictId'])['Price'].agg('median') \\\n",
    "        / df.groupby(['DistrictId'])['Square'].agg('median')  # median price for square meter in each district\n",
    "        \n",
    "    \n",
    "    def new_features(self, df):\n",
    "        # How old is the district      \n",
    "        df['DistrictYear'] = df['DistrictId'].map(self.districts_median_year)\n",
    "        \n",
    "        self.median_district_year = df['DistrictYear'].median()\n",
    "        df['DistrictYear'].fillna(self.median_district_year, inplace=True)\n",
    "\n",
    "\n",
    "        # Median square of flat in each district\n",
    "        df['DistrictDensity'] = df['DistrictId'].map(self.districts_density)\n",
    "        \n",
    "        self.median_district_density = df['DistrictDensity'].median()\n",
    "        df['DistrictDensity'].fillna(self.median_district_density, inplace=True)\n",
    "\n",
    "\n",
    "        # Median price for square meter in each district\n",
    "        self.district_price_per_square.to_dict()\n",
    "        df['DistrictPrice'] = df['DistrictId'].map(self.district_price_per_square)\n",
    "        \n",
    "        self.median_district_price_per_square = df['DistrictPrice'].median()\n",
    "        df['DistrictPrice'].fillna(self.median_district_price_per_square, inplace=True)\n",
    "\n",
    "\n",
    "        # Floor category\n",
    "        floor_bins = [0, 4, 7, 12, df['Floor'].max()]\n",
    "        df['Floor_cat'] = pd.cut(df['Floor'], bins=floor_bins, labels=False)\n",
    "        df['Floor_cat'].fillna(-1, inplace=True) \n",
    "\n",
    "        \n",
    "        # Scale and merge Social\n",
    "        scaler = RobustScaler()\n",
    "        pca = PCA(n_components=1, random_state=42)\n",
    "        social_scaled = pd.DataFrame(scaler.fit_transform(df[['Social_1', 'Social_2', 'Social_3']]))\n",
    "        df['Social'] = pca.fit_transform(social_scaled)\n",
    "        \n",
    "        \n",
    "        df.drop(['Ecology_2', 'Ecology_3', 'Shops_2', 'Helthcare_2', 'Floor',], axis=1, inplace=True)\n",
    "        \n",
    "        return df\n",
    "    \n",
    "    \n",
    "    def drop_outliers(self, df):\n",
    "        df = df.loc[(df['Square'] > self.min_sq) & (df['Square'] < self.max_sq)]\n",
    "        \n",
    "        \n",
    "        \n",
    "        return df\n"
   ]
  },
  {
   "cell_type": "markdown",
   "metadata": {
    "papermill": {
     "duration": 0.01706,
     "end_time": "2021-03-13T13:57:18.477607",
     "exception": false,
     "start_time": "2021-03-13T13:57:18.460547",
     "status": "completed"
    },
    "tags": []
   },
   "source": [
    "__Обработка данных__"
   ]
  },
  {
   "cell_type": "code",
   "execution_count": 13,
   "metadata": {
    "execution": {
     "iopub.execute_input": "2021-03-13T13:57:18.515537Z",
     "iopub.status.busy": "2021-03-13T13:57:18.514956Z",
     "iopub.status.idle": "2021-03-13T13:57:18.612920Z",
     "shell.execute_reply": "2021-03-13T13:57:18.612013Z"
    },
    "papermill": {
     "duration": 0.117979,
     "end_time": "2021-03-13T13:57:18.613140",
     "exception": false,
     "start_time": "2021-03-13T13:57:18.495161",
     "status": "completed"
    },
    "tags": []
   },
   "outputs": [],
   "source": [
    "preprocessor = DataPreprocessor()\n",
    "preprocessor.fit(train_df)\n",
    "train_df = preprocessor.transform(train_df)\n",
    "test_df = preprocessor.transform(test_df)"
   ]
  },
  {
   "cell_type": "markdown",
   "metadata": {
    "papermill": {
     "duration": 0.017142,
     "end_time": "2021-03-13T13:57:18.652131",
     "exception": false,
     "start_time": "2021-03-13T13:57:18.634989",
     "status": "completed"
    },
    "tags": []
   },
   "source": [
    "__Генерация признаков__"
   ]
  },
  {
   "cell_type": "code",
   "execution_count": 14,
   "metadata": {
    "execution": {
     "iopub.execute_input": "2021-03-13T13:57:18.691211Z",
     "iopub.status.busy": "2021-03-13T13:57:18.690423Z",
     "iopub.status.idle": "2021-03-13T13:57:18.771842Z",
     "shell.execute_reply": "2021-03-13T13:57:18.772739Z"
    },
    "papermill": {
     "duration": 0.103979,
     "end_time": "2021-03-13T13:57:18.773047",
     "exception": false,
     "start_time": "2021-03-13T13:57:18.669068",
     "status": "completed"
    },
    "tags": []
   },
   "outputs": [],
   "source": [
    "features_gen = FeatureGenerator()\n",
    "features_gen.fit(train_df)\n",
    "train_df = features_gen.new_features(train_df)\n",
    "train_df = features_gen.drop_outliers(train_df)\n",
    "test_df = features_gen.new_features(test_df)"
   ]
  },
  {
   "cell_type": "markdown",
   "metadata": {
    "papermill": {
     "duration": 0.032726,
     "end_time": "2021-03-13T13:57:18.840480",
     "exception": false,
     "start_time": "2021-03-13T13:57:18.807754",
     "status": "completed"
    },
    "tags": []
   },
   "source": [
    "__Разбиение на train, valid__"
   ]
  },
  {
   "cell_type": "code",
   "execution_count": 15,
   "metadata": {
    "execution": {
     "iopub.execute_input": "2021-03-13T13:57:18.905413Z",
     "iopub.status.busy": "2021-03-13T13:57:18.904784Z",
     "iopub.status.idle": "2021-03-13T13:57:18.910014Z",
     "shell.execute_reply": "2021-03-13T13:57:18.910522Z"
    },
    "papermill": {
     "duration": 0.036909,
     "end_time": "2021-03-13T13:57:18.910710",
     "exception": false,
     "start_time": "2021-03-13T13:57:18.873801",
     "status": "completed"
    },
    "tags": []
   },
   "outputs": [],
   "source": [
    "y = pd.DataFrame(data=train_df['Price'])\n",
    "train_df.drop('Price', axis=1, inplace=True)\n",
    "X_train, X_test, y_train, y_test = train_test_split(train_df, y, test_size=0.15, random_state=100)"
   ]
  },
  {
   "cell_type": "markdown",
   "metadata": {
    "papermill": {
     "duration": 0.017069,
     "end_time": "2021-03-13T13:57:18.945134",
     "exception": false,
     "start_time": "2021-03-13T13:57:18.928065",
     "status": "completed"
    },
    "tags": []
   },
   "source": [
    "__Построение наилучшей модели на Gradient Boosting Regressor__"
   ]
  },
  {
   "cell_type": "code",
   "execution_count": 17,
   "metadata": {
    "execution": {
     "iopub.execute_input": "2021-03-13T13:57:18.984995Z",
     "iopub.status.busy": "2021-03-13T13:57:18.984064Z",
     "iopub.status.idle": "2021-03-13T13:57:18.987325Z",
     "shell.execute_reply": "2021-03-13T13:57:18.986762Z"
    },
    "papermill": {
     "duration": 0.024882,
     "end_time": "2021-03-13T13:57:18.987500",
     "exception": false,
     "start_time": "2021-03-13T13:57:18.962618",
     "status": "completed"
    },
    "tags": []
   },
   "outputs": [
    {
     "name": "stdout",
     "output_type": "stream",
     "text": [
      "0.9043064875217608\n",
      "0.7963523000386501\n"
     ]
    }
   ],
   "source": [
    "gb_model = GradientBoostingRegressor(criterion='mse',\n",
    "                                     max_depth=7,\n",
    "                                     min_samples_leaf=7,\n",
    "                                     random_state=42,  \n",
    "                                     n_estimators=2500, \n",
    "                                     max_features='sqrt', \n",
    "                                     loss='huber', \n",
    "                                     learning_rate=0.01)\n",
    "\n",
    "gb_model.fit(X_train, y_train)\n",
    "\n",
    "y_train_preds = gb_model.predict(X_train)\n",
    "y_test_preds = gb_model.predict(X_test)\n",
    "print(r2(y_train, y_train_preds))\n",
    "print(r2(y_test, y_test_preds))"
   ]
  },
  {
   "cell_type": "markdown",
   "metadata": {},
   "source": [
    "__Важность признаков__"
   ]
  },
  {
   "cell_type": "code",
   "execution_count": 18,
   "metadata": {
    "execution": {
     "iopub.execute_input": "2021-03-13T13:57:24.269599Z",
     "iopub.status.busy": "2021-03-13T13:57:24.268938Z",
     "iopub.status.idle": "2021-03-13T13:57:24.272152Z",
     "shell.execute_reply": "2021-03-13T13:57:24.271564Z"
    },
    "papermill": {
     "duration": 0.025666,
     "end_time": "2021-03-13T13:57:24.272285",
     "exception": false,
     "start_time": "2021-03-13T13:57:24.246619",
     "status": "completed"
    },
    "tags": []
   },
   "outputs": [
    {
     "data": {
      "text/html": [
       "<div>\n",
       "<style scoped>\n",
       "    .dataframe tbody tr th:only-of-type {\n",
       "        vertical-align: middle;\n",
       "    }\n",
       "\n",
       "    .dataframe tbody tr th {\n",
       "        vertical-align: top;\n",
       "    }\n",
       "\n",
       "    .dataframe thead th {\n",
       "        text-align: right;\n",
       "    }\n",
       "</style>\n",
       "<table border=\"1\" class=\"dataframe\">\n",
       "  <thead>\n",
       "    <tr style=\"text-align: right;\">\n",
       "      <th></th>\n",
       "      <th>feature_name</th>\n",
       "      <th>importance</th>\n",
       "    </tr>\n",
       "  </thead>\n",
       "  <tbody>\n",
       "    <tr>\n",
       "      <th>2</th>\n",
       "      <td>Square</td>\n",
       "      <td>0.257739</td>\n",
       "    </tr>\n",
       "    <tr>\n",
       "      <th>15</th>\n",
       "      <td>DistrictPrice</td>\n",
       "      <td>0.159836</td>\n",
       "    </tr>\n",
       "    <tr>\n",
       "      <th>1</th>\n",
       "      <td>Rooms</td>\n",
       "      <td>0.122329</td>\n",
       "    </tr>\n",
       "    <tr>\n",
       "      <th>3</th>\n",
       "      <td>LifeSquare</td>\n",
       "      <td>0.078782</td>\n",
       "    </tr>\n",
       "    <tr>\n",
       "      <th>9</th>\n",
       "      <td>Social_2</td>\n",
       "      <td>0.066343</td>\n",
       "    </tr>\n",
       "    <tr>\n",
       "      <th>8</th>\n",
       "      <td>Social_1</td>\n",
       "      <td>0.058106</td>\n",
       "    </tr>\n",
       "    <tr>\n",
       "      <th>4</th>\n",
       "      <td>KitchenSquare</td>\n",
       "      <td>0.039445</td>\n",
       "    </tr>\n",
       "    <tr>\n",
       "      <th>17</th>\n",
       "      <td>Social</td>\n",
       "      <td>0.034416</td>\n",
       "    </tr>\n",
       "    <tr>\n",
       "      <th>6</th>\n",
       "      <td>HouseYear</td>\n",
       "      <td>0.028269</td>\n",
       "    </tr>\n",
       "    <tr>\n",
       "      <th>10</th>\n",
       "      <td>Social_3</td>\n",
       "      <td>0.024931</td>\n",
       "    </tr>\n",
       "    <tr>\n",
       "      <th>0</th>\n",
       "      <td>DistrictId</td>\n",
       "      <td>0.023667</td>\n",
       "    </tr>\n",
       "    <tr>\n",
       "      <th>5</th>\n",
       "      <td>HouseFloor</td>\n",
       "      <td>0.020205</td>\n",
       "    </tr>\n",
       "    <tr>\n",
       "      <th>14</th>\n",
       "      <td>DistrictDensity</td>\n",
       "      <td>0.017942</td>\n",
       "    </tr>\n",
       "    <tr>\n",
       "      <th>7</th>\n",
       "      <td>Ecology_1</td>\n",
       "      <td>0.017848</td>\n",
       "    </tr>\n",
       "    <tr>\n",
       "      <th>12</th>\n",
       "      <td>Shops_1</td>\n",
       "      <td>0.015865</td>\n",
       "    </tr>\n",
       "    <tr>\n",
       "      <th>11</th>\n",
       "      <td>Healthcare_1</td>\n",
       "      <td>0.015697</td>\n",
       "    </tr>\n",
       "    <tr>\n",
       "      <th>13</th>\n",
       "      <td>DistrictYear</td>\n",
       "      <td>0.010890</td>\n",
       "    </tr>\n",
       "    <tr>\n",
       "      <th>16</th>\n",
       "      <td>Floor_cat</td>\n",
       "      <td>0.007693</td>\n",
       "    </tr>\n",
       "  </tbody>\n",
       "</table>\n",
       "</div>"
      ],
      "text/plain": [
       "       feature_name  importance\n",
       "2            Square    0.257739\n",
       "15    DistrictPrice    0.159836\n",
       "1             Rooms    0.122329\n",
       "3        LifeSquare    0.078782\n",
       "9          Social_2    0.066343\n",
       "8          Social_1    0.058106\n",
       "4     KitchenSquare    0.039445\n",
       "17           Social    0.034416\n",
       "6         HouseYear    0.028269\n",
       "10         Social_3    0.024931\n",
       "0        DistrictId    0.023667\n",
       "5        HouseFloor    0.020205\n",
       "14  DistrictDensity    0.017942\n",
       "7         Ecology_1    0.017848\n",
       "12          Shops_1    0.015865\n",
       "11     Healthcare_1    0.015697\n",
       "13     DistrictYear    0.010890\n",
       "16        Floor_cat    0.007693"
      ]
     },
     "execution_count": 18,
     "metadata": {},
     "output_type": "execute_result"
    }
   ],
   "source": [
    "feature_importances = pd.DataFrame(zip(X_train.columns, \n",
    "                                       gb_model.feature_importances_), \n",
    "                                   columns=['feature_name', 'importance'])\n",
    "\n",
    "feature_importances.sort_values(by='importance', ascending=False, inplace=True)\n",
    "feature_importances"
   ]
  },
  {
   "cell_type": "markdown",
   "metadata": {
    "papermill": {
     "duration": 0.017596,
     "end_time": "2021-03-13T13:57:24.350217",
     "exception": false,
     "start_time": "2021-03-13T13:57:24.332621",
     "status": "completed"
    },
    "tags": []
   },
   "source": [
    "__Предсказание тестового набора данных и отправка в kaggle__"
   ]
  },
  {
   "cell_type": "code",
   "execution_count": 19,
   "metadata": {
    "execution": {
     "iopub.execute_input": "2021-03-13T13:57:24.392330Z",
     "iopub.status.busy": "2021-03-13T13:57:24.391377Z",
     "iopub.status.idle": "2021-03-13T13:57:24.412024Z",
     "shell.execute_reply": "2021-03-13T13:57:24.412471Z"
    },
    "papermill": {
     "duration": 0.044035,
     "end_time": "2021-03-13T13:57:24.412664",
     "exception": false,
     "start_time": "2021-03-13T13:57:24.368629",
     "status": "completed"
    },
    "tags": []
   },
   "outputs": [
    {
     "data": {
      "text/html": [
       "<div>\n",
       "<style scoped>\n",
       "    .dataframe tbody tr th:only-of-type {\n",
       "        vertical-align: middle;\n",
       "    }\n",
       "\n",
       "    .dataframe tbody tr th {\n",
       "        vertical-align: top;\n",
       "    }\n",
       "\n",
       "    .dataframe thead th {\n",
       "        text-align: right;\n",
       "    }\n",
       "</style>\n",
       "<table border=\"1\" class=\"dataframe\">\n",
       "  <thead>\n",
       "    <tr style=\"text-align: right;\">\n",
       "      <th></th>\n",
       "      <th>DistrictId</th>\n",
       "      <th>Rooms</th>\n",
       "      <th>Square</th>\n",
       "      <th>LifeSquare</th>\n",
       "      <th>KitchenSquare</th>\n",
       "      <th>HouseFloor</th>\n",
       "      <th>HouseYear</th>\n",
       "      <th>Ecology_1</th>\n",
       "      <th>Social_1</th>\n",
       "      <th>Social_2</th>\n",
       "      <th>Social_3</th>\n",
       "      <th>Healthcare_1</th>\n",
       "      <th>Shops_1</th>\n",
       "      <th>DistrictYear</th>\n",
       "      <th>DistrictDensity</th>\n",
       "      <th>DistrictPrice</th>\n",
       "      <th>Floor_cat</th>\n",
       "      <th>Social</th>\n",
       "    </tr>\n",
       "  </thead>\n",
       "  <tbody>\n",
       "    <tr>\n",
       "      <th>0</th>\n",
       "      <td>44</td>\n",
       "      <td>1.0</td>\n",
       "      <td>36.847630</td>\n",
       "      <td>19.094182</td>\n",
       "      <td>5.0</td>\n",
       "      <td>9.0</td>\n",
       "      <td>1970</td>\n",
       "      <td>0.036122</td>\n",
       "      <td>24</td>\n",
       "      <td>4378</td>\n",
       "      <td>0</td>\n",
       "      <td>1036.0</td>\n",
       "      <td>1</td>\n",
       "      <td>1977.0</td>\n",
       "      <td>46.971646</td>\n",
       "      <td>4431.704675</td>\n",
       "      <td>1</td>\n",
       "      <td>-1.654285</td>\n",
       "    </tr>\n",
       "    <tr>\n",
       "      <th>1</th>\n",
       "      <td>62</td>\n",
       "      <td>1.0</td>\n",
       "      <td>42.568133</td>\n",
       "      <td>42.493907</td>\n",
       "      <td>10.0</td>\n",
       "      <td>17.0</td>\n",
       "      <td>2017</td>\n",
       "      <td>0.072158</td>\n",
       "      <td>2</td>\n",
       "      <td>629</td>\n",
       "      <td>1</td>\n",
       "      <td>2300.0</td>\n",
       "      <td>0</td>\n",
       "      <td>1977.0</td>\n",
       "      <td>56.667328</td>\n",
       "      <td>2859.977368</td>\n",
       "      <td>1</td>\n",
       "      <td>-1.462656</td>\n",
       "    </tr>\n",
       "  </tbody>\n",
       "</table>\n",
       "</div>"
      ],
      "text/plain": [
       "   DistrictId  Rooms     Square  LifeSquare  KitchenSquare  HouseFloor  \\\n",
       "0          44    1.0  36.847630   19.094182            5.0         9.0   \n",
       "1          62    1.0  42.568133   42.493907           10.0        17.0   \n",
       "\n",
       "   HouseYear  Ecology_1  Social_1  Social_2  Social_3  Healthcare_1  Shops_1  \\\n",
       "0       1970   0.036122        24      4378         0        1036.0        1   \n",
       "1       2017   0.072158         2       629         1        2300.0        0   \n",
       "\n",
       "   DistrictYear  DistrictDensity  DistrictPrice  Floor_cat    Social  \n",
       "0        1977.0        46.971646    4431.704675          1 -1.654285  \n",
       "1        1977.0        56.667328    2859.977368          1 -1.462656  "
      ]
     },
     "execution_count": 19,
     "metadata": {},
     "output_type": "execute_result"
    }
   ],
   "source": [
    "test_df.head(2)"
   ]
  },
  {
   "cell_type": "code",
   "execution_count": 20,
   "metadata": {
    "execution": {
     "iopub.execute_input": "2021-03-13T13:57:24.469289Z",
     "iopub.status.busy": "2021-03-13T13:57:24.468362Z",
     "iopub.status.idle": "2021-03-13T13:57:24.473014Z",
     "shell.execute_reply": "2021-03-13T13:57:24.472438Z"
    },
    "papermill": {
     "duration": 0.041233,
     "end_time": "2021-03-13T13:57:24.473161",
     "exception": false,
     "start_time": "2021-03-13T13:57:24.431928",
     "status": "completed"
    },
    "tags": []
   },
   "outputs": [
    {
     "data": {
      "text/html": [
       "<div>\n",
       "<style scoped>\n",
       "    .dataframe tbody tr th:only-of-type {\n",
       "        vertical-align: middle;\n",
       "    }\n",
       "\n",
       "    .dataframe tbody tr th {\n",
       "        vertical-align: top;\n",
       "    }\n",
       "\n",
       "    .dataframe thead th {\n",
       "        text-align: right;\n",
       "    }\n",
       "</style>\n",
       "<table border=\"1\" class=\"dataframe\">\n",
       "  <thead>\n",
       "    <tr style=\"text-align: right;\">\n",
       "      <th></th>\n",
       "      <th>DistrictId</th>\n",
       "      <th>Rooms</th>\n",
       "      <th>Square</th>\n",
       "      <th>LifeSquare</th>\n",
       "      <th>KitchenSquare</th>\n",
       "      <th>HouseFloor</th>\n",
       "      <th>HouseYear</th>\n",
       "      <th>Ecology_1</th>\n",
       "      <th>Social_1</th>\n",
       "      <th>Social_2</th>\n",
       "      <th>Social_3</th>\n",
       "      <th>Healthcare_1</th>\n",
       "      <th>Shops_1</th>\n",
       "      <th>DistrictYear</th>\n",
       "      <th>DistrictDensity</th>\n",
       "      <th>DistrictPrice</th>\n",
       "      <th>Floor_cat</th>\n",
       "      <th>Social</th>\n",
       "    </tr>\n",
       "  </thead>\n",
       "  <tbody>\n",
       "    <tr>\n",
       "      <th>8785</th>\n",
       "      <td>134</td>\n",
       "      <td>2.0</td>\n",
       "      <td>39.697957</td>\n",
       "      <td>25.214448</td>\n",
       "      <td>7.0</td>\n",
       "      <td>9.0</td>\n",
       "      <td>1969</td>\n",
       "      <td>0.015017</td>\n",
       "      <td>17</td>\n",
       "      <td>3079</td>\n",
       "      <td>59</td>\n",
       "      <td>2300.0</td>\n",
       "      <td>8</td>\n",
       "      <td>1977.0</td>\n",
       "      <td>42.382091</td>\n",
       "      <td>6161.829301</td>\n",
       "      <td>1</td>\n",
       "      <td>10.186171</td>\n",
       "    </tr>\n",
       "    <tr>\n",
       "      <th>9074</th>\n",
       "      <td>8</td>\n",
       "      <td>1.0</td>\n",
       "      <td>39.195153</td>\n",
       "      <td>22.158768</td>\n",
       "      <td>9.0</td>\n",
       "      <td>12.0</td>\n",
       "      <td>1968</td>\n",
       "      <td>0.437885</td>\n",
       "      <td>23</td>\n",
       "      <td>5735</td>\n",
       "      <td>3</td>\n",
       "      <td>1084.0</td>\n",
       "      <td>5</td>\n",
       "      <td>1983.0</td>\n",
       "      <td>47.651571</td>\n",
       "      <td>3975.516530</td>\n",
       "      <td>2</td>\n",
       "      <td>-1.007192</td>\n",
       "    </tr>\n",
       "  </tbody>\n",
       "</table>\n",
       "</div>"
      ],
      "text/plain": [
       "      DistrictId  Rooms     Square  LifeSquare  KitchenSquare  HouseFloor  \\\n",
       "8785         134    2.0  39.697957   25.214448            7.0         9.0   \n",
       "9074           8    1.0  39.195153   22.158768            9.0        12.0   \n",
       "\n",
       "      HouseYear  Ecology_1  Social_1  Social_2  Social_3  Healthcare_1  \\\n",
       "8785       1969   0.015017        17      3079        59        2300.0   \n",
       "9074       1968   0.437885        23      5735         3        1084.0   \n",
       "\n",
       "      Shops_1  DistrictYear  DistrictDensity  DistrictPrice  Floor_cat  \\\n",
       "8785        8        1977.0        42.382091    6161.829301          1   \n",
       "9074        5        1983.0        47.651571    3975.516530          2   \n",
       "\n",
       "         Social  \n",
       "8785  10.186171  \n",
       "9074  -1.007192  "
      ]
     },
     "execution_count": 20,
     "metadata": {},
     "output_type": "execute_result"
    }
   ],
   "source": [
    "X_train.head(2)"
   ]
  },
  {
   "cell_type": "code",
   "execution_count": 21,
   "metadata": {
    "execution": {
     "iopub.execute_input": "2021-03-13T13:57:24.516135Z",
     "iopub.status.busy": "2021-03-13T13:57:24.515461Z",
     "iopub.status.idle": "2021-03-13T13:57:24.541093Z",
     "shell.execute_reply": "2021-03-13T13:57:24.540461Z"
    },
    "papermill": {
     "duration": 0.048995,
     "end_time": "2021-03-13T13:57:24.541237",
     "exception": false,
     "start_time": "2021-03-13T13:57:24.492242",
     "status": "completed"
    },
    "tags": []
   },
   "outputs": [
    {
     "data": {
      "text/html": [
       "<div>\n",
       "<style scoped>\n",
       "    .dataframe tbody tr th:only-of-type {\n",
       "        vertical-align: middle;\n",
       "    }\n",
       "\n",
       "    .dataframe tbody tr th {\n",
       "        vertical-align: top;\n",
       "    }\n",
       "\n",
       "    .dataframe thead th {\n",
       "        text-align: right;\n",
       "    }\n",
       "</style>\n",
       "<table border=\"1\" class=\"dataframe\">\n",
       "  <thead>\n",
       "    <tr style=\"text-align: right;\">\n",
       "      <th></th>\n",
       "      <th>Id</th>\n",
       "      <th>Price</th>\n",
       "    </tr>\n",
       "  </thead>\n",
       "  <tbody>\n",
       "    <tr>\n",
       "      <th>0</th>\n",
       "      <td>4567</td>\n",
       "      <td>200000.0</td>\n",
       "    </tr>\n",
       "    <tr>\n",
       "      <th>1</th>\n",
       "      <td>5925</td>\n",
       "      <td>200000.0</td>\n",
       "    </tr>\n",
       "    <tr>\n",
       "      <th>2</th>\n",
       "      <td>960</td>\n",
       "      <td>200000.0</td>\n",
       "    </tr>\n",
       "    <tr>\n",
       "      <th>3</th>\n",
       "      <td>3848</td>\n",
       "      <td>200000.0</td>\n",
       "    </tr>\n",
       "    <tr>\n",
       "      <th>4</th>\n",
       "      <td>746</td>\n",
       "      <td>200000.0</td>\n",
       "    </tr>\n",
       "  </tbody>\n",
       "</table>\n",
       "</div>"
      ],
      "text/plain": [
       "     Id     Price\n",
       "0  4567  200000.0\n",
       "1  5925  200000.0\n",
       "2   960  200000.0\n",
       "3  3848  200000.0\n",
       "4   746  200000.0"
      ]
     },
     "execution_count": 21,
     "metadata": {},
     "output_type": "execute_result"
    }
   ],
   "source": [
    "submit = pd.read_csv('sample_submission.csv')\n",
    "submit.head()"
   ]
  },
  {
   "cell_type": "code",
   "execution_count": 22,
   "metadata": {
    "execution": {
     "iopub.execute_input": "2021-03-13T13:57:24.585999Z",
     "iopub.status.busy": "2021-03-13T13:57:24.585295Z",
     "iopub.status.idle": "2021-03-13T13:57:24.646263Z",
     "shell.execute_reply": "2021-03-13T13:57:24.645713Z"
    },
    "papermill": {
     "duration": 0.085634,
     "end_time": "2021-03-13T13:57:24.646401",
     "exception": false,
     "start_time": "2021-03-13T13:57:24.560767",
     "status": "completed"
    },
    "tags": []
   },
   "outputs": [
    {
     "data": {
      "text/plain": [
       "array([157616.35649686, 122930.01879599, 136015.0128913 , ...,\n",
       "       149902.23115219, 185593.45046475, 292952.38334725])"
      ]
     },
     "execution_count": 22,
     "metadata": {},
     "output_type": "execute_result"
    }
   ],
   "source": [
    "predictions = gb_model.predict(test_df)\n",
    "predictions"
   ]
  },
  {
   "cell_type": "code",
   "execution_count": 23,
   "metadata": {
    "execution": {
     "iopub.execute_input": "2021-03-13T13:57:24.690323Z",
     "iopub.status.busy": "2021-03-13T13:57:24.689413Z",
     "iopub.status.idle": "2021-03-13T13:57:24.698153Z",
     "shell.execute_reply": "2021-03-13T13:57:24.698542Z"
    },
    "papermill": {
     "duration": 0.032595,
     "end_time": "2021-03-13T13:57:24.698725",
     "exception": false,
     "start_time": "2021-03-13T13:57:24.666130",
     "status": "completed"
    },
    "tags": []
   },
   "outputs": [
    {
     "data": {
      "text/html": [
       "<div>\n",
       "<style scoped>\n",
       "    .dataframe tbody tr th:only-of-type {\n",
       "        vertical-align: middle;\n",
       "    }\n",
       "\n",
       "    .dataframe tbody tr th {\n",
       "        vertical-align: top;\n",
       "    }\n",
       "\n",
       "    .dataframe thead th {\n",
       "        text-align: right;\n",
       "    }\n",
       "</style>\n",
       "<table border=\"1\" class=\"dataframe\">\n",
       "  <thead>\n",
       "    <tr style=\"text-align: right;\">\n",
       "      <th></th>\n",
       "      <th>Id</th>\n",
       "      <th>Price</th>\n",
       "    </tr>\n",
       "  </thead>\n",
       "  <tbody>\n",
       "    <tr>\n",
       "      <th>0</th>\n",
       "      <td>4567</td>\n",
       "      <td>157616.356497</td>\n",
       "    </tr>\n",
       "    <tr>\n",
       "      <th>1</th>\n",
       "      <td>5925</td>\n",
       "      <td>122930.018796</td>\n",
       "    </tr>\n",
       "    <tr>\n",
       "      <th>2</th>\n",
       "      <td>960</td>\n",
       "      <td>136015.012891</td>\n",
       "    </tr>\n",
       "    <tr>\n",
       "      <th>3</th>\n",
       "      <td>3848</td>\n",
       "      <td>96605.905520</td>\n",
       "    </tr>\n",
       "    <tr>\n",
       "      <th>4</th>\n",
       "      <td>746</td>\n",
       "      <td>182360.444868</td>\n",
       "    </tr>\n",
       "  </tbody>\n",
       "</table>\n",
       "</div>"
      ],
      "text/plain": [
       "     Id          Price\n",
       "0  4567  157616.356497\n",
       "1  5925  122930.018796\n",
       "2   960  136015.012891\n",
       "3  3848   96605.905520\n",
       "4   746  182360.444868"
      ]
     },
     "execution_count": 23,
     "metadata": {},
     "output_type": "execute_result"
    }
   ],
   "source": [
    "submit['Price'] = predictions\n",
    "submit.head()"
   ]
  },
  {
   "cell_type": "code",
   "execution_count": 24,
   "metadata": {
    "execution": {
     "iopub.execute_input": "2021-03-13T13:57:24.743127Z",
     "iopub.status.busy": "2021-03-13T13:57:24.742232Z",
     "iopub.status.idle": "2021-03-13T13:57:24.747183Z",
     "shell.execute_reply": "2021-03-13T13:57:24.747619Z"
    },
    "papermill": {
     "duration": 0.028554,
     "end_time": "2021-03-13T13:57:24.747846",
     "exception": false,
     "start_time": "2021-03-13T13:57:24.719292",
     "status": "completed"
    },
    "tags": []
   },
   "outputs": [
    {
     "data": {
      "text/plain": [
       "(5000, 2)"
      ]
     },
     "execution_count": 24,
     "metadata": {},
     "output_type": "execute_result"
    }
   ],
   "source": [
    "submit.shape"
   ]
  },
  {
   "cell_type": "code",
   "execution_count": 25,
   "metadata": {
    "execution": {
     "iopub.execute_input": "2021-03-13T13:57:24.793400Z",
     "iopub.status.busy": "2021-03-13T13:57:24.792807Z",
     "iopub.status.idle": "2021-03-13T13:57:24.810223Z",
     "shell.execute_reply": "2021-03-13T13:57:24.809675Z"
    },
    "papermill": {
     "duration": 0.041694,
     "end_time": "2021-03-13T13:57:24.810362",
     "exception": false,
     "start_time": "2021-03-13T13:57:24.768668",
     "status": "completed"
    },
    "tags": []
   },
   "outputs": [],
   "source": [
    "submit.to_csv('gb_submit.csv', index=False)"
   ]
  }
 ],
 "metadata": {
  "kernelspec": {
   "display_name": "Python 3 (ipykernel)",
   "language": "python",
   "name": "python3"
  },
  "language_info": {
   "codemirror_mode": {
    "name": "ipython",
    "version": 3
   },
   "file_extension": ".py",
   "mimetype": "text/x-python",
   "name": "python",
   "nbconvert_exporter": "python",
   "pygments_lexer": "ipython3",
   "version": "3.9.5"
  },
  "papermill": {
   "default_parameters": {},
   "duration": 15.065163,
   "end_time": "2021-03-13T13:57:25.440960",
   "environment_variables": {},
   "exception": null,
   "input_path": "__notebook__.ipynb",
   "output_path": "__notebook__.ipynb",
   "parameters": {},
   "start_time": "2021-03-13T13:57:10.375797",
   "version": "2.2.2"
  }
 },
 "nbformat": 4,
 "nbformat_minor": 4
}
